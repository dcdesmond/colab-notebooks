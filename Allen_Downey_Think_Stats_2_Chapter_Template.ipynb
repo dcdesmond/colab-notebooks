{
  "nbformat": 4,
  "nbformat_minor": 0,
  "metadata": {
    "colab": {
      "name": "Allen Downey Think Stats 2 Chapter Template.ipynb",
      "provenance": [],
      "collapsed_sections": [],
      "include_colab_link": true
    },
    "kernelspec": {
      "name": "python3",
      "display_name": "Python 3"
    }
  },
  "cells": [
    {
      "cell_type": "markdown",
      "metadata": {
        "id": "view-in-github",
        "colab_type": "text"
      },
      "source": [
        "<a href=\"https://colab.research.google.com/github/dcdesmond/colab-notebooks/blob/master/Allen_Downey_Think_Stats_2_Chapter_Template.ipynb\" target=\"_parent\"><img src=\"https://colab.research.google.com/assets/colab-badge.svg\" alt=\"Open In Colab\"/></a>"
      ]
    },
    {
      "cell_type": "markdown",
      "metadata": {
        "id": "w1GxauB7m4yt",
        "colab_type": "text"
      },
      "source": [
        "This is a template for executing exercises and programs from [Allen Downey's Think Stats 2][1] from [Green Tea Press][2] \n",
        "\n",
        "Below are some data analysis packages that will be necessary.\n",
        "\n",
        "[1]: http://greenteapress.com/thinkstats2/thinkstats2.pdf\n",
        "[2]: https://greenteapress.com/wp/"
      ]
    },
    {
      "cell_type": "code",
      "metadata": {
        "id": "JkQfLcd0jAUq",
        "colab_type": "code",
        "colab": {}
      },
      "source": [
        "import numpy as np\n",
        "import matplotlib.pyplot as plt\n",
        "import seaborn as sns\n",
        "import pandas as pd\n",
        "import scipy as sp\n",
        "import statsmodels as sm"
      ],
      "execution_count": 0,
      "outputs": []
    },
    {
      "cell_type": "markdown",
      "metadata": {
        "id": "VT1ejY7Gm-Gb",
        "colab_type": "text"
      },
      "source": [
        "We will also need to clone the repository for the book into this notebook."
      ]
    },
    {
      "cell_type": "code",
      "metadata": {
        "id": "eGH4scDDhIQu",
        "colab_type": "code",
        "colab": {
          "base_uri": "https://localhost:8080/",
          "height": 125
        },
        "outputId": "732c9f61-71e2-4649-b436-ecf3593b61ee"
      },
      "source": [
        "!git clone https://github.com/AllenDowney/ThinkStats2.git"
      ],
      "execution_count": 17,
      "outputs": [
        {
          "output_type": "stream",
          "text": [
            "Cloning into 'ThinkStats2'...\n",
            "remote: Enumerating objects: 2715, done.\u001b[K\n",
            "remote: Total 2715 (delta 0), reused 0 (delta 0), pack-reused 2715\u001b[K\n",
            "Receiving objects: 100% (2715/2715), 172.16 MiB | 33.52 MiB/s, done.\n",
            "Resolving deltas: 100% (1542/1542), done.\n",
            "Checking out files: 100% (482/482), done.\n"
          ],
          "name": "stdout"
        }
      ]
    },
    {
      "cell_type": "markdown",
      "metadata": {
        "id": "qXZPjKxYmwou",
        "colab_type": "text"
      },
      "source": [
        "The following command can be run to ensure that the repository has been successfully cloned and all packages have successfully loaded."
      ]
    },
    {
      "cell_type": "code",
      "metadata": {
        "id": "Qja0SAifhNgJ",
        "colab_type": "code",
        "colab": {
          "base_uri": "https://localhost:8080/",
          "height": 53
        },
        "outputId": "2f8595c8-f226-4023-ede8-2bb15a417961"
      },
      "source": [
        "!python nsfg.py"
      ],
      "execution_count": 18,
      "outputs": [
        {
          "output_type": "stream",
          "text": [
            "(13593, 244)\n",
            "All tests passed.\n"
          ],
          "name": "stdout"
        }
      ]
    }
  ]
}