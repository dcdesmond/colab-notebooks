{
  "nbformat": 4,
  "nbformat_minor": 0,
  "metadata": {
    "colab": {
      "name": "Import GitHub with Python OS.ipynb",
      "provenance": [],
      "toc_visible": true,
      "authorship_tag": "ABX9TyO1RWGPi8d47p6VWvZs07/Y",
      "include_colab_link": true
    },
    "kernelspec": {
      "name": "python3",
      "display_name": "Python 3"
    }
  },
  "cells": [
    {
      "cell_type": "markdown",
      "metadata": {
        "id": "view-in-github",
        "colab_type": "text"
      },
      "source": [
        "<a href=\"https://colab.research.google.com/github/dcdesmond/colab-notebooks/blob/master/Import_GitHub_with_Python_OS.ipynb\" target=\"_parent\"><img src=\"https://colab.research.google.com/assets/colab-badge.svg\" alt=\"Open In Colab\"/></a>"
      ]
    },
    {
      "cell_type": "markdown",
      "metadata": {
        "id": "K4ubHGuX4zka",
        "colab_type": "text"
      },
      "source": [
        "# Import GitHub Repo or Gist from Python OS"
      ]
    },
    {
      "cell_type": "code",
      "metadata": {
        "id": "AGIFmOrJ-tTG",
        "colab_type": "code",
        "colab": {}
      },
      "source": [
        "repo_link = input(\"Paste repo link here: \")\n",
        "folder_name = input(\"Input folder name here: \")\n",
        "\n",
        "# clone repo\n",
        "import os\n",
        "from subprocess import getoutput\n",
        "\n",
        "# the formatting icons %s are replaced by whatever is entered for repo_link and folder_name\n",
        "getoutput(\"git clone -l -s %s %s\" % (repo_link, folder_name))\n",
        "\n",
        "# Change directory into cloned repo\n",
        "os.chdir(\"%s\" % folder_name)\n",
        "\n",
        "# List repo contents\n",
        "getoutput(\"ls\")"
      ],
      "execution_count": 0,
      "outputs": []
    }
  ]
}