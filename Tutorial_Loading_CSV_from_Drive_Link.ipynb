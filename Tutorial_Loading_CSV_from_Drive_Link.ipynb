{
  "nbformat": 4,
  "nbformat_minor": 0,
  "metadata": {
    "colab": {
      "name": "Tutorial: Loading CSV from Drive Link.ipynb",
      "provenance": [],
      "collapsed_sections": [],
      "toc_visible": true,
      "include_colab_link": true
    },
    "kernelspec": {
      "name": "python3",
      "display_name": "Python 3"
    }
  },
  "cells": [
    {
      "cell_type": "markdown",
      "metadata": {
        "id": "view-in-github",
        "colab_type": "text"
      },
      "source": [
        "<a href=\"https://colab.research.google.com/github/dcdesmond/colab-notebooks/blob/master/Tutorial_Loading_CSV_from_Drive_Link.ipynb\" target=\"_parent\"><img src=\"https://colab.research.google.com/assets/colab-badge.svg\" alt=\"Open In Colab\"/></a>"
      ]
    },
    {
      "cell_type": "markdown",
      "metadata": {
        "id": "63f3-6XGDVMQ",
        "colab_type": "text"
      },
      "source": [
        "#Introduction: Full Code\n",
        "\n",
        "This is a tutorial on how to load a .csv file into a Colab notebook from any Google Drive link. This link may be one that someone else has provided for you, or one that you have acquired from one of your own files that you wish to use. Instructive material acquired from [Get Started: 3 Ways to Load CSV files into Colab](https://towardsdatascience.com/3-ways-to-load-csv-files-into-colab-7c14fcbdcb92). This notebook is for personal reflection and sharing to those who I feel may find it helpful.\n",
        "\n",
        "This first section details all of the code. The second section shows a more condensed version of the same process based on a module I created [here](https://gist.github.com/dcdesmond/25923982b3e843112e1550fa44f569ef).\n"
      ]
    },
    {
      "cell_type": "markdown",
      "metadata": {
        "id": "dCwERX638TAn",
        "colab_type": "text"
      },
      "source": [
        "First, be sure that ```pandas``` is imported, as the following code is dependent on it."
      ]
    },
    {
      "cell_type": "code",
      "metadata": {
        "id": "sAkcW5hZBc9Z",
        "colab_type": "code",
        "colab": {}
      },
      "source": [
        "import pandas as pd"
      ],
      "execution_count": 0,
      "outputs": []
    },
    {
      "cell_type": "markdown",
      "metadata": {
        "id": "IpCyrQ9ZHIq6",
        "colab_type": "text"
      },
      "source": [
        "The following code will install PyDrive, which will allow the notebook to access files from Google Drive. You must be a Google user and will need to follow the authentication link and paste the code into the cell output."
      ]
    },
    {
      "cell_type": "code",
      "metadata": {
        "id": "6IbZjXJ71wPm",
        "colab_type": "code",
        "colab": {}
      },
      "source": [
        "# Code to read csv file into Colaboratory:\n",
        "!pip install -U -q PyDrive\n",
        "from pydrive.auth import GoogleAuth\n",
        "from pydrive.drive import GoogleDrive\n",
        "from google.colab import auth\n",
        "from oauth2client.client import GoogleCredentials\n",
        "# Authenticate and create the PyDrive client.\n",
        "auth.authenticate_user()\n",
        "gauth = GoogleAuth()\n",
        "gauth.credentials = GoogleCredentials.get_application_default()\n",
        "drive = GoogleDrive(gauth)"
      ],
      "execution_count": 0,
      "outputs": []
    },
    {
      "cell_type": "markdown",
      "metadata": {
        "id": "pbRgwQ4RHigl",
        "colab_type": "text"
      },
      "source": [
        "Then, we create an object to contain the link to the .csv that we want to import."
      ]
    },
    {
      "cell_type": "code",
      "metadata": {
        "id": "_c-GEohdAcpB",
        "colab_type": "code",
        "colab": {}
      },
      "source": [
        "link = 'https://drive.google.com/open?id=1v433bCEsM0389afinfzQaUiOjoifgEcx' # The shareable link"
      ],
      "execution_count": 0,
      "outputs": []
    },
    {
      "cell_type": "markdown",
      "metadata": {
        "id": "gb6E0FTPHywm",
        "colab_type": "text"
      },
      "source": [
        "The above link leads to a .csv of enrollment data from a Udacity course, but it can be replaced with any other Google Drive link leading to a .csv file and the rest will work just the same.\n",
        "\n",
        "Next, because the ID of the specific link comes after ```open?id=``` in the link, we want to make sure that the hash the follows matches the link we inserted."
      ]
    },
    {
      "cell_type": "code",
      "metadata": {
        "id": "d8QapZJjA_r5",
        "colab_type": "code",
        "outputId": "f1b3acf1-afef-4cd4-bfff-1e4c198cf258",
        "colab": {
          "base_uri": "https://localhost:8080/",
          "height": 35
        }
      },
      "source": [
        "fluff, id = link.split('=')\n",
        "print (id) # Verify that you have everything after '='"
      ],
      "execution_count": 0,
      "outputs": [
        {
          "output_type": "stream",
          "text": [
            "1v433bCEsM0389afinfzQaUiOjoifgEcx\n"
          ],
          "name": "stdout"
        }
      ]
    },
    {
      "cell_type": "markdown",
      "metadata": {
        "id": "uNEkWSCJJv5j",
        "colab_type": "text"
      },
      "source": [
        "If everything is correct, then the next cell will download and create a copy of the linked file in the Colab directory; please note that it will create this file in your _current_ directory, so be sure to navigate to where you want the file to be accordingly before running the following code. To name the file something else, simply change ```g_u_enrollments``` to the desired name."
      ]
    },
    {
      "cell_type": "code",
      "metadata": {
        "id": "TlLCTq-GBZFe",
        "colab_type": "code",
        "colab": {}
      },
      "source": [
        "downloaded = drive.CreateFile({'id':id}) \n",
        "downloaded.GetContentFile('g_u_enrollments.csv')  # the file should now be available in the Colab directory"
      ],
      "execution_count": 0,
      "outputs": []
    },
    {
      "cell_type": "markdown",
      "metadata": {
        "id": "pNXzc9xeKMcI",
        "colab_type": "text"
      },
      "source": [
        "In many cases for data analysis, we would want to store the file in a Pandas Dataframe, which we can do with the following code. This also allows us to handle and manipulate the data so we can examine it."
      ]
    },
    {
      "cell_type": "code",
      "metadata": {
        "id": "9dou0tvdJWXs",
        "colab_type": "code",
        "colab": {}
      },
      "source": [
        "df3 = pd.read_csv('g_u_enrollments.csv')\n",
        "# Dataset is now stored in a Pandas Dataframe"
      ],
      "execution_count": 0,
      "outputs": []
    },
    {
      "cell_type": "markdown",
      "metadata": {
        "id": "nzybc_YwKa1F",
        "colab_type": "text"
      },
      "source": [
        "To see the top of the .csv that was imported, run the following cell."
      ]
    },
    {
      "cell_type": "code",
      "metadata": {
        "id": "JGMyWdqvJJxK",
        "colab_type": "code",
        "outputId": "727d5554-a4a7-4044-e65b-091fe731622e",
        "colab": {
          "base_uri": "https://localhost:8080/",
          "height": 204
        }
      },
      "source": [
        "df3.head() #should have the top 5 rows of the dataset"
      ],
      "execution_count": 0,
      "outputs": [
        {
          "output_type": "execute_result",
          "data": {
            "text/html": [
              "<div>\n",
              "<style scoped>\n",
              "    .dataframe tbody tr th:only-of-type {\n",
              "        vertical-align: middle;\n",
              "    }\n",
              "\n",
              "    .dataframe tbody tr th {\n",
              "        vertical-align: top;\n",
              "    }\n",
              "\n",
              "    .dataframe thead th {\n",
              "        text-align: right;\n",
              "    }\n",
              "</style>\n",
              "<table border=\"1\" class=\"dataframe\">\n",
              "  <thead>\n",
              "    <tr style=\"text-align: right;\">\n",
              "      <th></th>\n",
              "      <th>account_key</th>\n",
              "      <th>status</th>\n",
              "      <th>join_date</th>\n",
              "      <th>cancel_date</th>\n",
              "      <th>days_to_cancel</th>\n",
              "      <th>is_udacity</th>\n",
              "      <th>is_canceled</th>\n",
              "    </tr>\n",
              "  </thead>\n",
              "  <tbody>\n",
              "    <tr>\n",
              "      <th>0</th>\n",
              "      <td>448</td>\n",
              "      <td>canceled</td>\n",
              "      <td>2014-11-10</td>\n",
              "      <td>2015-01-14</td>\n",
              "      <td>65.0</td>\n",
              "      <td>True</td>\n",
              "      <td>True</td>\n",
              "    </tr>\n",
              "    <tr>\n",
              "      <th>1</th>\n",
              "      <td>448</td>\n",
              "      <td>canceled</td>\n",
              "      <td>2014-11-05</td>\n",
              "      <td>2014-11-10</td>\n",
              "      <td>5.0</td>\n",
              "      <td>True</td>\n",
              "      <td>True</td>\n",
              "    </tr>\n",
              "    <tr>\n",
              "      <th>2</th>\n",
              "      <td>448</td>\n",
              "      <td>canceled</td>\n",
              "      <td>2015-01-27</td>\n",
              "      <td>2015-01-27</td>\n",
              "      <td>0.0</td>\n",
              "      <td>True</td>\n",
              "      <td>True</td>\n",
              "    </tr>\n",
              "    <tr>\n",
              "      <th>3</th>\n",
              "      <td>448</td>\n",
              "      <td>canceled</td>\n",
              "      <td>2014-11-10</td>\n",
              "      <td>2014-11-10</td>\n",
              "      <td>0.0</td>\n",
              "      <td>True</td>\n",
              "      <td>True</td>\n",
              "    </tr>\n",
              "    <tr>\n",
              "      <th>4</th>\n",
              "      <td>448</td>\n",
              "      <td>current</td>\n",
              "      <td>2015-03-10</td>\n",
              "      <td>NaN</td>\n",
              "      <td>NaN</td>\n",
              "      <td>True</td>\n",
              "      <td>False</td>\n",
              "    </tr>\n",
              "  </tbody>\n",
              "</table>\n",
              "</div>"
            ],
            "text/plain": [
              "   account_key    status   join_date  ... days_to_cancel  is_udacity  is_canceled\n",
              "0          448  canceled  2014-11-10  ...           65.0        True         True\n",
              "1          448  canceled  2014-11-05  ...            5.0        True         True\n",
              "2          448  canceled  2015-01-27  ...            0.0        True         True\n",
              "3          448  canceled  2014-11-10  ...            0.0        True         True\n",
              "4          448   current  2015-03-10  ...            NaN        True        False\n",
              "\n",
              "[5 rows x 7 columns]"
            ]
          },
          "metadata": {
            "tags": []
          },
          "execution_count": 7
        }
      ]
    },
    {
      "cell_type": "markdown",
      "metadata": {
        "id": "IrJQFQuOECj-",
        "colab_type": "text"
      },
      "source": [
        "\n",
        "\n",
        "---\n",
        "\n"
      ]
    },
    {
      "cell_type": "markdown",
      "metadata": {
        "id": "j2CDbm4aWp94",
        "colab_type": "text"
      },
      "source": [
        "# Condensed Importation From Module\n",
        "\n",
        "Rather than going through the above process, you can use the following code in any notebook to quickly, efficiently, and customizably import any .csv from Google Drive. It will allow you to input the link and specify the name of the file.\n",
        "\n",
        "First, clone the repo. Because this is a single small file (i.e. GitHub Gist), this will be the only file imported. Also note that the following command will create a new folder called ```cloned repo``` in which it will deposit the repo and files. It will also automatically place you into that folder in the directory."
      ]
    },
    {
      "cell_type": "code",
      "metadata": {
        "id": "xTaBh7mcX6ji",
        "colab_type": "code",
        "outputId": "4eecc3f1-7716-49f7-8880-bd110e7c7135",
        "colab": {
          "base_uri": "https://localhost:8080/",
          "height": 179
        }
      },
      "source": [
        "# Clone the entire repo.\n",
        "!git clone -l -s https://gist.github.com/dcdesmond/25923982b3e843112e1550fa44f569ef cloned-repo\n",
        "\n",
        "# Change directory into cloned repo\n",
        "%cd cloned-repo\n",
        "\n",
        "# List repo contents\n",
        "!ls"
      ],
      "execution_count": 0,
      "outputs": [
        {
          "output_type": "stream",
          "text": [
            "Cloning into 'cloned-repo'...\n",
            "warning: --local is ignored\n",
            "remote: Enumerating objects: 37, done.\u001b[K\n",
            "remote: Counting objects: 100% (37/37), done.\u001b[K\n",
            "remote: Compressing objects: 100% (33/33), done.\u001b[K\n",
            "remote: Total 37 (delta 10), reused 0 (delta 0), pack-reused 0\u001b[K\n",
            "Unpacking objects: 100% (37/37), done.\n",
            "/content/cloned-repo\n",
            "gdrive_csv_loader.py\n"
          ],
          "name": "stdout"
        }
      ]
    },
    {
      "cell_type": "markdown",
      "metadata": {
        "id": "0ytSHPH8Yu47",
        "colab_type": "text"
      },
      "source": [
        "Because there is only one file in this repo, and you are already placed into that directory folder, all you need to do now is run the following command:"
      ]
    },
    {
      "cell_type": "code",
      "metadata": {
        "id": "wcdR8pj1Y7Ba",
        "colab_type": "code",
        "outputId": "80097d2b-269f-4fd6-81b5-28b82ec46c9c",
        "colab": {
          "base_uri": "https://localhost:8080/",
          "height": 89
        }
      },
      "source": [
        "import gdrive_csv_loader"
      ],
      "execution_count": 0,
      "outputs": [
        {
          "output_type": "stream",
          "text": [
            "Enter link to the .csv: https://drive.google.com/open?id=1v433bCEsM0389afinfzQaUiOjoifgEcx\n",
            "Link ID verification:  1v433bCEsM0389afinfzQaUiOjoifgEcx\n",
            "Enter desired filename (.csv will automatically be appended): testfile\n",
            "Data Import Complete.\n"
          ],
          "name": "stdout"
        }
      ]
    },
    {
      "cell_type": "markdown",
      "metadata": {
        "id": "q7T1zvHUZeLa",
        "colab_type": "text"
      },
      "source": [
        "You will now find the .csv file you imported added in the Files section of your notebook."
      ]
    }
  ]
}