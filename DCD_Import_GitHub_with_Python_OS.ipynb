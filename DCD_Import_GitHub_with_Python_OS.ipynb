{
  "nbformat": 4,
  "nbformat_minor": 0,
  "metadata": {
    "colab": {
      "name": "DCD_Import GitHub with Python OS.ipynb",
      "provenance": [],
      "collapsed_sections": [],
      "toc_visible": true,
      "authorship_tag": "ABX9TyOy7HGvreMNS347SnKgC/MA",
      "include_colab_link": true
    },
    "kernelspec": {
      "name": "python3",
      "display_name": "Python 3"
    }
  },
  "cells": [
    {
      "cell_type": "markdown",
      "metadata": {
        "id": "view-in-github",
        "colab_type": "text"
      },
      "source": [
        "<a href=\"https://colab.research.google.com/github/dcdesmond/colab-notebooks/blob/master/DCD_Import_GitHub_with_Python_OS.ipynb\" target=\"_parent\"><img src=\"https://colab.research.google.com/assets/colab-badge.svg\" alt=\"Open In Colab\"/></a>"
      ]
    },
    {
      "cell_type": "markdown",
      "metadata": {
        "id": "K4ubHGuX4zka",
        "colab_type": "text"
      },
      "source": [
        "# Import GitHub Repo or Gist from Python OS"
      ]
    },
    {
      "cell_type": "markdown",
      "metadata": {
        "id": "7cdTfTDcC_8H",
        "colab_type": "text"
      },
      "source": [
        "Colab notebook made for GitHub Gist snippet"
      ]
    },
    {
      "cell_type": "code",
      "metadata": {
        "id": "AGIFmOrJ-tTG",
        "colab_type": "code",
        "colab": {}
      },
      "source": [
        "repo_link = input(\"Paste repo link here: \")\n",
        "folder_name = input(\"Input folder name here: \")\n",
        "\n",
        "# clone repo\n",
        "import os\n",
        "from subprocess import getoutput\n",
        "\n",
        "# the formatting icons %s are replaced by whatever is entered for repo_link and folder_name\n",
        "getoutput(\"git clone -l -s %s %s\" % (repo_link, folder_name))\n",
        "\n",
        "# Change directory into cloned repo\n",
        "os.chdir(\"%s\" % folder_name)\n",
        "\n",
        "# List repo contents\n",
        "getoutput(\"ls\")"
      ],
      "execution_count": 0,
      "outputs": []
    }
  ]
}